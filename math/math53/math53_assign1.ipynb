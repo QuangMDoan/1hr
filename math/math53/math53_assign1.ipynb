{
 "cells": [
  {
   "cell_type": "markdown",
   "metadata": {},
   "source": [
    "## problem 2b\n",
    "\n",
    "$$ y^{'} + p(t)y = q(t) y^n $$\n",
    "\n",
    "$$ y^{'} = q(t) y^n-p(t)y $$\n",
    "\n",
    "$$ \\frac{y^{'}}{y^n} = q(t)-p(t)\\frac{y}{y^n} $$\n",
    "\n",
    "$$ let \\space v = y^{1-n}, v' = (1-n)*y^{-n}*y' $$\n",
    "\n",
    "$$ y' = \\frac{v'*y^n}{1-n} $$\n",
    "\n",
    "$$ \\frac{\\frac{v'*y^n}{1-n}}{y^n} = q(t)-p(t)*v $$\n",
    "\n",
    "$$ \\frac{v'}{1-n} = q(t)-p(t)*v $$\n",
    "\n",
    "$$ v' = (1-n)*q(t) - (1-n)*p(t)*v$$\n",
    "\n",
    "is a linear equation \n",
    "\n",
    "\n",
    "\n",
    "\n"
   ]
  },
  {
   "cell_type": "markdown",
   "metadata": {},
   "source": [
    "## problem 3\n",
    "\n",
    "$$ y' = f(ax+by+c)$$\n",
    "$$ v = ax+by+c $$\n",
    "$$ v' = a+by' $$\n",
    "$$ v' = a+bf(v) $$\n",
    "\n",
    "$$ \\frac{dv}{a+bf(v)} = dx$$\n",
    "\n",
    "which is a separable differential equation to find v"
   ]
  },
  {
   "cell_type": "markdown",
   "metadata": {},
   "source": [
    "## problem 4a\n",
    "\n",
    "$$ \\frac{dy}{dx} = (2x+3y)^2 $$\n",
    "$$ v = 2x+3y $$\n",
    "$$ v' = 2 + 3\\frac{dy}{dx} $$\n",
    "$$ v' = 2+3v^2$$\n",
    "$$ \\frac{dv}{2+3v^2} = dx$$\n",
    "$$ \\int{\\frac{dv}{2+3v^2}} = \\int{dx} $$\n",
    "$$ \\frac{1}{\\sqrt6}tan^{-1}(\\frac{\\sqrt3}{\\sqrt2}v) = x + C$$\n",
    "$$ \\frac{1}{\\sqrt6}tan^{-1}(\\frac{\\sqrt3}{\\sqrt2}(2x+3y)) = x + C$$\n",
    "$$ tan^{-1}(\\frac{\\sqrt3}{\\sqrt2}(2x+3y)) = \\sqrt6x + C $$\n",
    "\n",
    "## problem 4b\n",
    "$$ y^2y' + \\frac{y^3}{t} = \\frac{2}{t^2}$$\n",
    "$$ y' + \\frac{y}{t} = \\frac{2}{y^2t^2} $$\n",
    "$$ n = -2 \\space bernoullis \\space equation  $$\n",
    "$$ v = y^3 $$\n",
    "$$ v' = 3y^2y' $$\n",
    "$$ \\frac{1}{3}v' + \\frac{v}{t} = \\frac{2}{t^2} $$\n",
    "$$ v' + \\frac{3v}{t} = \\frac{6}{t^2} $$\n",
    "$$ \\mu = e^{\\int{3/t}} $$\n",
    "$$ \\mu = e^{3ln(t)} $$\n",
    "$$ \\mu = t^3 $$\n",
    "$$ t^3v' + 3vt^2 = 6t$$\n",
    "$$ \\int{d[t^3v]} = \\int{6t}dt $$\n",
    "$$ t^3v = 3t^2 +c $$\n",
    "$$ v = \\frac{3}{t} + \\frac{c}{t^3}$$\n",
    "$$ v = \\frac{3t^2+c}{t^3}$$\n",
    "$$ y^3 = \\frac{3t^2+c}{t^3} $$\n",
    "$$ y = \\frac{(3t^2+c)^{1/3}}{t} $$\n",
    "\n",
    "## problem 4c \n",
    "$$ (x^2-y^2)dx + xydy = 0$$\n",
    "$$ (1-\\frac{y^2}{x^2})dx + \\frac{y}{x}dy = 0$$\n",
    "$$ v = \\frac{y}{x} $$\n",
    "$$ y = vx $$\n",
    "$$ dy = vdx+xdv $$\n",
    "$$ (1-v^2)dx + v(vdx+xdv) = 0 $$\n",
    "$$ (1-v^2+v^2)dx = -xvdv $$\n",
    "$$ dx = -xvdv$$\n",
    "$$ \\int{\\frac{dx}{x}} = \\int{-vdv} $$\n",
    "$$ ln|x| = \\frac{-v^2}{2} + C$$\n",
    "$$ ln|x| = \\frac{-y^2}{2x^2} + C$$\n",
    "$$ -y^2 = 2x^2ln|x| + C $$\n",
    "$$ y = -x\\sqrt{2ln|x|+C} $$\n",
    "\n",
    "\n"
   ]
  }
 ],
 "metadata": {
  "kernelspec": {
   "display_name": "Julia 1.10.8",
   "language": "julia",
   "name": "julia-1.10"
  },
  "language_info": {
   "file_extension": ".jl",
   "mimetype": "application/julia",
   "name": "julia",
   "version": "1.10.8"
  }
 },
 "nbformat": 4,
 "nbformat_minor": 2
}
