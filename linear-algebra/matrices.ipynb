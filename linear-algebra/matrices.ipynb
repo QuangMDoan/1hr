{
 "cells": [
  {
   "cell_type": "code",
   "execution_count": 17,
   "metadata": {},
   "outputs": [
    {
     "name": "stdout",
     "output_type": "stream",
     "text": [
      "4\n",
      "is A a tall matrix? false"
     ]
    },
    {
     "data": {
      "text/plain": [
       "3×4 Matrix{Float64}:\n",
       " 0.0   1.0  -2.3  0.1\n",
       " 1.3   4.0   0.0  0.0\n",
       " 4.1  -1.0   0.0  1.7"
      ]
     },
     "metadata": {},
     "output_type": "display_data"
    }
   ],
   "source": [
    "A = [0 1 -2.3 0.1; \n",
    "     1.3 4 -0.1 0; \n",
    "     4.1 -1 0 1.7]\n",
    "size(A), size(A, 1), size(A, 2)\n",
    "m, n = size(A)\n",
    "\n",
    "println(n)\n",
    "\n",
    "tall(X) = size(X, 1) > size(X, 2)\n",
    "tall(A)\n",
    "using Printf\n",
    "@printf(\"is A a tall matrix? %s\", tall(A))\n",
    "A[2, 3] = 0\n",
    "A"
   ]
  }
 ],
 "metadata": {
  "kernelspec": {
   "display_name": "Julia 1.10.4",
   "language": "julia",
   "name": "julia-1.10"
  },
  "language_info": {
   "file_extension": ".jl",
   "mimetype": "application/julia",
   "name": "julia",
   "version": "1.10.4"
  }
 },
 "nbformat": 4,
 "nbformat_minor": 2
}
