{
 "cells": [
  {
   "cell_type": "code",
   "execution_count": 28,
   "metadata": {},
   "outputs": [
    {
     "name": "stdout",
     "output_type": "stream",
     "text": [
      "4\n",
      "is A a tall matrix? false"
     ]
    }
   ],
   "source": [
    "using LinearAlgebra\n",
    "A = [0 1 -2.3 0.1; \n",
    "     1.3 4 -0.1 0; \n",
    "     4.1 -1 0 1.7]\n",
    "size(A), size(A, 1), size(A, 2)\n",
    "m, n = size(A)\n",
    "\n",
    "println(n)\n",
    "\n",
    "tall(X) = size(X, 1) > size(X, 2)\n",
    "tall(A)\n",
    "using Printf\n",
    "@printf(\"is A a tall matrix? %s\", tall(A))"
   ]
  },
  {
   "cell_type": "code",
   "execution_count": 28,
   "metadata": {},
   "outputs": [
    {
     "name": "stdout",
     "output_type": "stream",
     "text": [
      "false"
     ]
    },
    {
     "data": {
      "text/plain": [
       "11"
      ]
     },
     "metadata": {},
     "output_type": "display_data"
    }
   ],
   "source": [
    "B = copy(A)\n",
    "B[2, 2] = 0\n",
    "print(A == B)\n",
    "C = A .== B\n",
    "C\n",
    "sum(C)"
   ]
  },
  {
   "cell_type": "code",
   "execution_count": 30,
   "metadata": {},
   "outputs": [
    {
     "data": {
      "text/plain": [
       "3-element Vector{Float64}:\n",
       " -2.1\n",
       "  3.0\n",
       "  0.0"
      ]
     },
     "metadata": {},
     "output_type": "display_data"
    }
   ],
   "source": [
    "A = [-2.1 3 0]\n",
    "B = [-2.1; 3; 0]"
   ]
  },
  {
   "cell_type": "code",
   "execution_count": 4,
   "metadata": {},
   "outputs": [
    {
     "data": {
      "text/plain": [
       "3-element Vector{Int64}:\n",
       "  1\n",
       "  0\n",
       " -2"
      ]
     },
     "metadata": {},
     "output_type": "display_data"
    }
   ],
   "source": [
    "A = [ -1 0 1 0 ; 2 -3 0 1 ; 0 4 -2 1]\n",
    "# I22 = A[1:2, 3:end]\n",
    "\n",
    "I22 = A[1:2, 3:4]\n",
    "\n",
    "#Third column of A\n",
    "A3 = A[:, 3]\n"
   ]
  },
  {
   "cell_type": "code",
   "execution_count": 5,
   "metadata": {},
   "outputs": [
    {
     "data": {
      "text/plain": [
       "3×2 Matrix{Int64}:\n",
       " 1  -3\n",
       " 2   0\n",
       " 1  -2"
      ]
     },
     "metadata": {},
     "output_type": "display_data"
    }
   ],
   "source": [
    "B = [ 1 -3 ; 2 0 ; 1 -2]"
   ]
  },
  {
   "cell_type": "code",
   "execution_count": 6,
   "metadata": {},
   "outputs": [
    {
     "data": {
      "text/plain": [
       "6-element Vector{Int64}:\n",
       "  1\n",
       "  2\n",
       "  1\n",
       " -3\n",
       "  0\n",
       " -2"
      ]
     },
     "metadata": {},
     "output_type": "display_data"
    }
   ],
   "source": [
    "B[:]"
   ]
  },
  {
   "cell_type": "code",
   "execution_count": null,
   "metadata": {},
   "outputs": [],
   "source": [
    "B = [0 2 3];\n",
    "C = [-1];\n",
    "D = [2 2 1 ; 1 3 5];\n",
    "E = [4; 4];\n",
    "A = [B C ; D E]"
   ]
  },
  {
   "cell_type": "code",
   "execution_count": 7,
   "metadata": {},
   "outputs": [
    {
     "data": {
      "text/plain": [
       "2×3 Matrix{Int64}:\n",
       " 1   1   0\n",
       " 2  -3  -2"
      ]
     },
     "metadata": {},
     "output_type": "display_data"
    }
   ],
   "source": [
    "reshape(B, (2, 3))"
   ]
  },
  {
   "cell_type": "code",
   "execution_count": 9,
   "metadata": {},
   "outputs": [
    {
     "data": {
      "text/plain": [
       "2×3 Matrix{Float64}:\n",
       " 1.0  4.0  7.0\n",
       " 2.0  5.0  8.0"
      ]
     },
     "metadata": {},
     "output_type": "display_data"
    }
   ],
   "source": [
    "a = [ [1., 2.], [4., 5.], [7., 8.] ]\n",
    "A = hcat(a...)"
   ]
  },
  {
   "cell_type": "code",
   "execution_count": 13,
   "metadata": {},
   "outputs": [
    {
     "data": {
      "text/plain": [
       "eye (generic function with 1 method)"
      ]
     },
     "metadata": {},
     "output_type": "display_data"
    }
   ],
   "source": [
    "eye(n) = 1.0*Matrix(I, n, n)"
   ]
  },
  {
   "cell_type": "code",
   "execution_count": 14,
   "metadata": {},
   "outputs": [
    {
     "data": {
      "text/plain": [
       "4×4 Matrix{Float64}:\n",
       " 1.0  0.0  0.0  0.0\n",
       " 0.0  1.0  0.0  0.0\n",
       " 0.0  0.0  1.0  0.0\n",
       " 0.0  0.0  0.0  1.0"
      ]
     },
     "metadata": {},
     "output_type": "display_data"
    }
   ],
   "source": [
    "eye(4)"
   ]
  },
  {
   "cell_type": "code",
   "execution_count": 16,
   "metadata": {},
   "outputs": [
    {
     "data": {
      "text/plain": [
       "2×3 Matrix{Int64}:\n",
       " 1  -1   2\n",
       " 0   3  -1"
      ]
     },
     "metadata": {},
     "output_type": "display_data"
    }
   ],
   "source": [
    "A = [1 -1 2; 0 3 -1]"
   ]
  },
  {
   "cell_type": "code",
   "execution_count": 18,
   "metadata": {},
   "outputs": [
    {
     "data": {
      "text/plain": [
       "2×5 Matrix{Int64}:\n",
       " 1  -1   2  1  0\n",
       " 0   3  -1  0  1"
      ]
     },
     "metadata": {},
     "output_type": "display_data"
    }
   ],
   "source": [
    "[A I]"
   ]
  },
  {
   "cell_type": "code",
   "execution_count": 20,
   "metadata": {},
   "outputs": [
    {
     "data": {
      "text/plain": [
       "5×3 Matrix{Int64}:\n",
       " 1  -1   2\n",
       " 0   3  -1\n",
       " 1   0   0\n",
       " 0   1   0\n",
       " 0   0   1"
      ]
     },
     "metadata": {},
     "output_type": "display_data"
    }
   ],
   "source": [
    "[A; I]"
   ]
  },
  {
   "cell_type": "code",
   "execution_count": 21,
   "metadata": {},
   "outputs": [
    {
     "data": {
      "text/plain": [
       "3×3 Matrix{Int64}:\n",
       " 1  0  0\n",
       " 0  2  0\n",
       " 0  0  3"
      ]
     },
     "metadata": {},
     "output_type": "display_data"
    }
   ],
   "source": [
    "diagm([1, 2, 3])"
   ]
  },
  {
   "cell_type": "code",
   "execution_count": 23,
   "metadata": {},
   "outputs": [
    {
     "data": {
      "text/plain": [
       "2×4 Matrix{Int64}:\n",
       " 0   1  -2  1\n",
       " 2  -1   3  0"
      ]
     },
     "metadata": {},
     "output_type": "display_data"
    }
   ],
   "source": [
    "H = [0 1 -2 1; 2 -1 3 0]"
   ]
  },
  {
   "cell_type": "code",
   "execution_count": 24,
   "metadata": {},
   "outputs": [
    {
     "data": {
      "text/plain": [
       "2-element Vector{Int64}:\n",
       "  0\n",
       " -1"
      ]
     },
     "metadata": {},
     "output_type": "display_data"
    }
   ],
   "source": [
    "diag(H)"
   ]
  },
  {
   "cell_type": "code",
   "execution_count": 25,
   "metadata": {},
   "outputs": [
    {
     "data": {
      "text/plain": [
       "2×3 Matrix{Float64}:\n",
       " 0.358969    0.935449  0.543567\n",
       " 0.00571138  0.42439   0.589996"
      ]
     },
     "metadata": {},
     "output_type": "display_data"
    }
   ],
   "source": [
    "rand(2,3)"
   ]
  },
  {
   "cell_type": "code",
   "execution_count": 26,
   "metadata": {},
   "outputs": [
    {
     "data": {
      "text/plain": [
       "3×2 Matrix{Float64}:\n",
       " -0.324431  -1.0349\n",
       "  0.428124  -0.21439\n",
       " -0.141738  -0.25175"
      ]
     },
     "metadata": {},
     "output_type": "display_data"
    }
   ],
   "source": [
    "randn(3,2)"
   ]
  },
  {
   "cell_type": "code",
   "execution_count": 30,
   "metadata": {},
   "outputs": [
    {
     "data": {
      "text/plain": [
       "4×5 SparseMatrixCSC{Float64, Int64} with 6 stored entries:\n",
       " -1.11    ⋅    1.17   ⋅     ⋅ \n",
       "  0.15  -0.1    ⋅     ⋅     ⋅ \n",
       "   ⋅      ⋅   -0.3    ⋅     ⋅ \n",
       "   ⋅      ⋅     ⋅    0.13   ⋅ "
      ]
     },
     "metadata": {},
     "output_type": "display_data"
    }
   ],
   "source": [
    "using SparseArrays\n",
    "rowind = [ 1, 2, 2, 1, 3, 4 ];\n",
    "colind = [ 1, 1, 2, 3, 3, 4 ];\n",
    "values = [-1.11, 0.15, -0.10, 1.17, -0.30, 0.13 ];\n",
    "A = sparse(rowind, colind, values, 4, 5)"
   ]
  },
  {
   "cell_type": "code",
   "execution_count": 31,
   "metadata": {},
   "outputs": [
    {
     "data": {
      "text/plain": [
       "6"
      ]
     },
     "metadata": {},
     "output_type": "display_data"
    }
   ],
   "source": [
    "nnz(A)"
   ]
  },
  {
   "cell_type": "code",
   "execution_count": 33,
   "metadata": {},
   "outputs": [
    {
     "data": {
      "text/plain": [
       "3×3 SparseMatrixCSC{Float64, Int64} with 4 stored entries:\n",
       " 1.0   ⋅   4.0\n",
       "  ⋅   3.0   ⋅ \n",
       " 2.0   ⋅    ⋅ "
      ]
     },
     "metadata": {},
     "output_type": "display_data"
    }
   ],
   "source": [
    "A = sparse([1, 3, 2, 1], [1, 1, 2, 3],\n",
    "   [1.0, 2.0, 3.0, 4.0], 3, 3)"
   ]
  },
  {
   "cell_type": "code",
   "execution_count": 34,
   "metadata": {},
   "outputs": [
    {
     "data": {
      "text/plain": [
       "3×3 Matrix{Float64}:\n",
       " 1.0  0.0  4.0\n",
       " 0.0  3.0  0.0\n",
       " 2.0  0.0  0.0"
      ]
     },
     "metadata": {},
     "output_type": "display_data"
    }
   ],
   "source": [
    "B = Array(A)"
   ]
  },
  {
   "cell_type": "code",
   "execution_count": 35,
   "metadata": {},
   "outputs": [],
   "source": [
    "B[1,3] = 0.0;"
   ]
  },
  {
   "cell_type": "code",
   "execution_count": 36,
   "metadata": {},
   "outputs": [
    {
     "data": {
      "text/plain": [
       "3×3 SparseMatrixCSC{Float64, Int64} with 3 stored entries:\n",
       " 1.0   ⋅    ⋅ \n",
       "  ⋅   3.0   ⋅ \n",
       " 2.0   ⋅    ⋅ "
      ]
     },
     "metadata": {},
     "output_type": "display_data"
    }
   ],
   "source": [
    "sparse(B)"
   ]
  },
  {
   "cell_type": "code",
   "execution_count": 38,
   "metadata": {},
   "outputs": [
    {
     "data": {
      "text/plain": [
       "speye (generic function with 1 method)"
      ]
     },
     "metadata": {},
     "output_type": "display_data"
    }
   ],
   "source": [
    "speye(n) = sparse(1.0I, n , n)"
   ]
  },
  {
   "cell_type": "code",
   "execution_count": 39,
   "metadata": {},
   "outputs": [
    {
     "data": {
      "text/plain": [
       "4×4 SparseMatrixCSC{Float64, Int64} with 4 stored entries:\n",
       " 1.0   ⋅    ⋅    ⋅ \n",
       "  ⋅   1.0   ⋅    ⋅ \n",
       "  ⋅    ⋅   1.0   ⋅ \n",
       "  ⋅    ⋅    ⋅   1.0"
      ]
     },
     "metadata": {},
     "output_type": "display_data"
    }
   ],
   "source": [
    "speye(4)"
   ]
  },
  {
   "cell_type": "code",
   "execution_count": 44,
   "metadata": {},
   "outputs": [
    {
     "data": {
      "text/plain": [
       "spdiagm (generic function with 1 method)"
      ]
     },
     "metadata": {},
     "output_type": "display_data"
    }
   ],
   "source": [
    "spdiagm(x) = sparse([1:length(x);], [1:length(x);], x, length(x), length(x))"
   ]
  },
  {
   "cell_type": "code",
   "execution_count": 45,
   "metadata": {},
   "outputs": [
    {
     "data": {
      "text/plain": [
       "4×4 SparseMatrixCSC{Int64, Int64} with 4 stored entries:\n",
       " 1  ⋅  ⋅  ⋅\n",
       " ⋅  2  ⋅  ⋅\n",
       " ⋅  ⋅  3  ⋅\n",
       " ⋅  ⋅  ⋅  4"
      ]
     },
     "metadata": {},
     "output_type": "display_data"
    }
   ],
   "source": [
    "spdiagm([1, 2, 3, 4])"
   ]
  },
  {
   "cell_type": "code",
   "execution_count": 51,
   "metadata": {},
   "outputs": [
    {
     "data": {
      "text/plain": [
       "10×10 SparseMatrixCSC{Float64, Int64} with 2 stored entries:\n",
       "  ⋅    ⋅         ⋅    ⋅    ⋅    ⋅         ⋅    ⋅    ⋅    ⋅ \n",
       "  ⋅    ⋅         ⋅    ⋅    ⋅    ⋅         ⋅    ⋅    ⋅    ⋅ \n",
       "  ⋅    ⋅         ⋅    ⋅    ⋅    ⋅         ⋅    ⋅    ⋅    ⋅ \n",
       "  ⋅    ⋅         ⋅    ⋅    ⋅    ⋅         ⋅    ⋅    ⋅    ⋅ \n",
       "  ⋅    ⋅         ⋅    ⋅    ⋅    ⋅         ⋅    ⋅    ⋅    ⋅ \n",
       "  ⋅    ⋅         ⋅    ⋅    ⋅    ⋅         ⋅    ⋅    ⋅    ⋅ \n",
       "  ⋅    ⋅         ⋅    ⋅    ⋅    ⋅         ⋅    ⋅    ⋅    ⋅ \n",
       "  ⋅   0.855057   ⋅    ⋅    ⋅    ⋅         ⋅    ⋅    ⋅    ⋅ \n",
       "  ⋅    ⋅         ⋅    ⋅    ⋅    ⋅         ⋅    ⋅    ⋅    ⋅ \n",
       "  ⋅    ⋅         ⋅    ⋅    ⋅   0.915034   ⋅    ⋅    ⋅    ⋅ "
      ]
     },
     "metadata": {},
     "output_type": "display_data"
    }
   ],
   "source": [
    "A = sprand(10, 10, 0.01)"
   ]
  },
  {
   "cell_type": "code",
   "execution_count": 53,
   "metadata": {},
   "outputs": [
    {
     "data": {
      "text/plain": [
       "10×10 SparseMatrixCSC{Float64, Int64} with 1 stored entry:\n",
       "  ⋅         ⋅    ⋅    ⋅    ⋅    ⋅    ⋅    ⋅    ⋅    ⋅ \n",
       "  ⋅         ⋅    ⋅    ⋅    ⋅    ⋅    ⋅    ⋅    ⋅    ⋅ \n",
       "  ⋅         ⋅    ⋅    ⋅    ⋅    ⋅    ⋅    ⋅    ⋅    ⋅ \n",
       "  ⋅         ⋅    ⋅    ⋅    ⋅    ⋅    ⋅    ⋅    ⋅    ⋅ \n",
       "  ⋅         ⋅    ⋅    ⋅    ⋅    ⋅    ⋅    ⋅    ⋅    ⋅ \n",
       "  ⋅         ⋅    ⋅    ⋅    ⋅    ⋅    ⋅    ⋅    ⋅    ⋅ \n",
       "  ⋅         ⋅    ⋅    ⋅    ⋅    ⋅    ⋅    ⋅    ⋅    ⋅ \n",
       " 0.159757   ⋅    ⋅    ⋅    ⋅    ⋅    ⋅    ⋅    ⋅    ⋅ \n",
       "  ⋅         ⋅    ⋅    ⋅    ⋅    ⋅    ⋅    ⋅    ⋅    ⋅ \n",
       "  ⋅         ⋅    ⋅    ⋅    ⋅    ⋅    ⋅    ⋅    ⋅    ⋅ "
      ]
     },
     "metadata": {},
     "output_type": "display_data"
    }
   ],
   "source": [
    "A = sprandn(10, 10, 0.01)"
   ]
  },
  {
   "cell_type": "markdown",
   "metadata": {},
   "source": [
    "# Transpose"
   ]
  },
  {
   "cell_type": "code",
   "execution_count": 64,
   "metadata": {},
   "outputs": [
    {
     "data": {
      "text/plain": [
       "2×4 Matrix{Float64}:\n",
       " 1.0      2.71828    0.135335  2.71828\n",
       " 7.38906  0.367879  20.0855    1.0"
      ]
     },
     "metadata": {},
     "output_type": "display_data"
    }
   ],
   "source": [
    "H = [0 1 -2 1; 2 -1 3 0]\n",
    "exp.(H)"
   ]
  },
  {
   "cell_type": "code",
   "execution_count": 55,
   "metadata": {},
   "outputs": [
    {
     "data": {
      "text/plain": [
       "4×2 adjoint(::Matrix{Int64}) with eltype Int64:\n",
       "  0   2\n",
       "  1  -1\n",
       " -2   3\n",
       "  1   0"
      ]
     },
     "metadata": {},
     "output_type": "display_data"
    }
   ],
   "source": [
    "HT = H'"
   ]
  },
  {
   "cell_type": "code",
   "execution_count": 56,
   "metadata": {},
   "outputs": [
    {
     "data": {
      "text/plain": [
       "3×2 Matrix{Int64}:\n",
       " 0  4\n",
       " 7  0\n",
       " 3  1"
      ]
     },
     "metadata": {},
     "output_type": "display_data"
    }
   ],
   "source": [
    "U = [ 0 4; 7 0; 3 1]"
   ]
  },
  {
   "cell_type": "code",
   "execution_count": 57,
   "metadata": {},
   "outputs": [
    {
     "data": {
      "text/plain": [
       "3×2 Matrix{Int64}:\n",
       " 1  2\n",
       " 2  3\n",
       " 0  4"
      ]
     },
     "metadata": {},
     "output_type": "display_data"
    }
   ],
   "source": [
    "V = [ 1 2; 2 3; 0 4]"
   ]
  },
  {
   "cell_type": "code",
   "execution_count": 58,
   "metadata": {},
   "outputs": [
    {
     "data": {
      "text/plain": [
       "3×2 Matrix{Int64}:\n",
       " 1  6\n",
       " 9  3\n",
       " 3  5"
      ]
     },
     "metadata": {},
     "output_type": "display_data"
    }
   ],
   "source": [
    "U+V"
   ]
  },
  {
   "cell_type": "code",
   "execution_count": 59,
   "metadata": {},
   "outputs": [
    {
     "data": {
      "text/plain": [
       "3×2 Matrix{Float64}:\n",
       "  0.0  8.8\n",
       " 15.4  0.0\n",
       "  6.6  2.2"
      ]
     },
     "metadata": {},
     "output_type": "display_data"
    }
   ],
   "source": [
    "2.2*U"
   ]
  },
  {
   "cell_type": "code",
   "execution_count": 66,
   "metadata": {},
   "outputs": [
    {
     "data": {
      "text/plain": [
       "5.5677643628300215"
      ]
     },
     "metadata": {},
     "output_type": "display_data"
    }
   ],
   "source": [
    "A = [2 3 -1; 0 1 4]\n",
    "norm(A)"
   ]
  },
  {
   "cell_type": "code",
   "execution_count": 68,
   "metadata": {},
   "outputs": [
    {
     "data": {
      "text/plain": [
       "6-element Vector{Int64}:\n",
       "  2\n",
       "  0\n",
       "  3\n",
       "  1\n",
       " -1\n",
       "  4"
      ]
     },
     "metadata": {},
     "output_type": "display_data"
    }
   ],
   "source": [
    "A[:]"
   ]
  },
  {
   "cell_type": "code",
   "execution_count": 67,
   "metadata": {},
   "outputs": [
    {
     "data": {
      "text/plain": [
       "5.5677643628300215"
      ]
     },
     "metadata": {},
     "output_type": "display_data"
    }
   ],
   "source": [
    "norm(A[:])"
   ]
  },
  {
   "cell_type": "code",
   "execution_count": 80,
   "metadata": {},
   "outputs": [
    {
     "data": {
      "text/plain": [
       "5×6 Matrix{Float64}:\n",
       " -1.0   1.0   0.0   0.0   0.0  0.0\n",
       "  0.0  -1.0   1.0   0.0   0.0  0.0\n",
       "  0.0   0.0  -1.0   1.0   0.0  0.0\n",
       "  0.0   0.0   0.0  -1.0   1.0  0.0\n",
       "  0.0   0.0   0.0   0.0  -1.0  1.0"
      ]
     },
     "metadata": {},
     "output_type": "display_data"
    }
   ],
   "source": [
    "difference_matrix(n) = [-eye(n-1) spzeros(n-1)] + [zeros(n-1) eye(n-1)];\n",
    "D = difference_matrix(6)"
   ]
  },
  {
   "cell_type": "code",
   "execution_count": 71,
   "metadata": {},
   "outputs": [
    {
     "data": {
      "text/plain": [
       "3-element Vector{Float64}:\n",
       "  1.0\n",
       "  2.0\n",
       " -1.0"
      ]
     },
     "metadata": {},
     "output_type": "display_data"
    }
   ],
   "source": [
    "D*[-1, 0, 2, 1]"
   ]
  },
  {
   "cell_type": "code",
   "execution_count": 72,
   "metadata": {},
   "outputs": [
    {
     "data": {
      "text/plain": [
       "3×4 SparseMatrixCSC{Float64, Int64} with 6 stored entries:\n",
       " -1.0   1.0    ⋅    ⋅ \n",
       "   ⋅   -1.0   1.0   ⋅ \n",
       "   ⋅     ⋅   -1.0  1.0"
      ]
     },
     "metadata": {},
     "output_type": "display_data"
    }
   ],
   "source": [
    "difference_matrix(n) = [-speye(n-1) spzeros(n-1)] +\n",
    "[spzeros(n-1) speye(n-1)];\n",
    "D = difference_matrix(4)"
   ]
  },
  {
   "cell_type": "code",
   "execution_count": 73,
   "metadata": {},
   "outputs": [
    {
     "data": {
      "text/plain": [
       "3-element Vector{Float64}:\n",
       "  1.0\n",
       "  2.0\n",
       " -1.0"
      ]
     },
     "metadata": {},
     "output_type": "display_data"
    }
   ],
   "source": [
    "D*[-1, 0, 2, 1]"
   ]
  },
  {
   "cell_type": "code",
   "execution_count": 81,
   "metadata": {},
   "outputs": [
    {
     "data": {
      "text/plain": [
       "running_sum (generic function with 1 method)"
      ]
     },
     "metadata": {},
     "output_type": "display_data"
    }
   ],
   "source": [
    "function running_sum(n)\n",
    "    S = zeros(n, n)\n",
    "    for i = 1:n\n",
    "        for j = 1:i\n",
    "            S[i, j] = 1\n",
    "        end\n",
    "    end\n",
    "    return S \n",
    "end\n",
    "\n"
   ]
  },
  {
   "cell_type": "code",
   "execution_count": 82,
   "metadata": {},
   "outputs": [
    {
     "data": {
      "text/plain": [
       "4×4 Matrix{Float64}:\n",
       " 1.0  0.0  0.0  0.0\n",
       " 1.0  1.0  0.0  0.0\n",
       " 1.0  1.0  1.0  0.0\n",
       " 1.0  1.0  1.0  1.0"
      ]
     },
     "metadata": {},
     "output_type": "display_data"
    }
   ],
   "source": [
    "running_sum(4)"
   ]
  },
  {
   "cell_type": "code",
   "execution_count": 83,
   "metadata": {},
   "outputs": [
    {
     "data": {
      "text/plain": [
       "4-element Vector{Float64}:\n",
       " -1.0\n",
       "  0.0\n",
       "  2.0\n",
       "  2.0"
      ]
     },
     "metadata": {},
     "output_type": "display_data"
    }
   ],
   "source": [
    "running_sum(4) * [-1, 1, 2, 0]"
   ]
  },
  {
   "cell_type": "code",
   "execution_count": 86,
   "metadata": {},
   "outputs": [
    {
     "data": {
      "text/plain": [
       "runningsum (generic function with 1 method)"
      ]
     },
     "metadata": {},
     "output_type": "display_data"
    }
   ],
   "source": [
    "runningsum(n) = tril(ones(n, n))"
   ]
  },
  {
   "cell_type": "code",
   "execution_count": 88,
   "metadata": {},
   "outputs": [
    {
     "data": {
      "text/plain": [
       "7×7 Matrix{Float64}:\n",
       " 1.0  0.0  0.0  0.0  0.0  0.0  0.0\n",
       " 1.0  1.0  0.0  0.0  0.0  0.0  0.0\n",
       " 1.0  1.0  1.0  0.0  0.0  0.0  0.0\n",
       " 1.0  1.0  1.0  1.0  0.0  0.0  0.0\n",
       " 1.0  1.0  1.0  1.0  1.0  0.0  0.0\n",
       " 1.0  1.0  1.0  1.0  1.0  1.0  0.0\n",
       " 1.0  1.0  1.0  1.0  1.0  1.0  1.0"
      ]
     },
     "metadata": {},
     "output_type": "display_data"
    }
   ],
   "source": [
    "runningsum(7)"
   ]
  },
  {
   "cell_type": "code",
   "execution_count": 89,
   "metadata": {},
   "outputs": [
    {
     "data": {
      "text/plain": [
       "5×5 Matrix{Int64}:\n",
       " 1  1   1    1    1\n",
       " 1  2   4    8   16\n",
       " 1  3   9   27   81\n",
       " 1  4  16   64  256\n",
       " 1  5  25  125  625"
      ]
     },
     "metadata": {},
     "output_type": "display_data"
    }
   ],
   "source": [
    "vandermonde(t, n) = hcat([t.^i for i = 0:n-1]...)\n",
    "t = [1, 2, 3, 4, 5]\n",
    "vandermonde(t, 5)"
   ]
  },
  {
   "cell_type": "code",
   "execution_count": 91,
   "metadata": {},
   "outputs": [
    {
     "name": "stdout",
     "output_type": "stream",
     "text": [
      "  0.007818 seconds (4.33 k allocations: 310.367 KiB, 50.70% compilation time)\n"
     ]
    },
    {
     "data": {
      "text/plain": [
       "1000-element Vector{Float64}:\n",
       " 2540.761934147786\n",
       " 2541.2623956405987\n",
       " 2578.683241967469\n",
       " 2515.5521639571234\n",
       " 2563.1480132742745\n",
       " 2540.100882417197\n",
       " 2542.8421934086555\n",
       " 2535.99618492108\n",
       " 2547.7004994216413\n",
       " 2532.370411140783\n",
       "    ⋮\n",
       " 2536.78485309826\n",
       " 2538.9771366940267\n",
       " 2553.7809152689433\n",
       " 2539.7523374264524\n",
       " 2539.478397318244\n",
       " 2575.989035591748\n",
       " 2540.1615662949034\n",
       " 2543.5389623524266\n",
       " 2544.7278794369195"
      ]
     },
     "metadata": {},
     "output_type": "display_data"
    }
   ],
   "source": [
    "A = rand(1000, 10000); x = rand(10000)\n",
    "@time y = A*x "
   ]
  },
  {
   "cell_type": "code",
   "execution_count": 92,
   "metadata": {},
   "outputs": [
    {
     "name": "stdout",
     "output_type": "stream",
     "text": [
      "  0.002603 seconds (1 allocation: 8.000 KiB)\n"
     ]
    },
    {
     "data": {
      "text/plain": [
       "1000-element Vector{Float64}:\n",
       " 2540.761934147786\n",
       " 2541.2623956405987\n",
       " 2578.683241967469\n",
       " 2515.5521639571234\n",
       " 2563.1480132742745\n",
       " 2540.100882417197\n",
       " 2542.8421934086555\n",
       " 2535.99618492108\n",
       " 2547.7004994216413\n",
       " 2532.370411140783\n",
       "    ⋮\n",
       " 2536.78485309826\n",
       " 2538.9771366940267\n",
       " 2553.7809152689433\n",
       " 2539.7523374264524\n",
       " 2539.478397318244\n",
       " 2575.989035591748\n",
       " 2540.1615662949034\n",
       " 2543.5389623524266\n",
       " 2544.7278794369195"
      ]
     },
     "metadata": {},
     "output_type": "display_data"
    }
   ],
   "source": [
    "@time y = A*x "
   ]
  },
  {
   "cell_type": "code",
   "execution_count": 102,
   "metadata": {},
   "outputs": [
    {
     "name": "stdout",
     "output_type": "stream",
     "text": [
      "  0.017923 seconds (2 allocations: 39.172 KiB)\n"
     ]
    },
    {
     "data": {
      "text/plain": [
       "5000-element Vector{Float64}:\n",
       " 4971.776040381644\n",
       " 5004.374611706031\n",
       " 4964.598511040578\n",
       " 5002.86820578391\n",
       " 4989.618022811389\n",
       " 4982.000234892878\n",
       " 4993.889999341054\n",
       " 4976.002062923415\n",
       " 5000.227907336537\n",
       " 5036.497182407499\n",
       "    ⋮\n",
       " 4974.210591124289\n",
       " 4984.897143140432\n",
       " 4970.042814937862\n",
       " 5012.972266441028\n",
       " 4987.029692007548\n",
       " 5010.6674611950075\n",
       " 5021.854728649605\n",
       " 4996.699579664277\n",
       " 5007.722508024485"
      ]
     },
     "metadata": {},
     "output_type": "display_data"
    }
   ],
   "source": [
    "A = rand(5000, 20000)\n",
    "x = rand(20000)\n",
    "@time A*x"
   ]
  },
  {
   "cell_type": "code",
   "execution_count": null,
   "metadata": {},
   "outputs": [],
   "source": [
    "n = 10^4\n",
    "D = difference(4)"
   ]
  }
 ],
 "metadata": {
  "kernelspec": {
   "display_name": "Julia 1.10.4",
   "language": "julia",
   "name": "julia-1.10"
  },
  "language_info": {
   "file_extension": ".jl",
   "mimetype": "application/julia",
   "name": "julia",
   "version": "1.10.4"
  }
 },
 "nbformat": 4,
 "nbformat_minor": 2
}
