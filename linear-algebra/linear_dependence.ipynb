{
 "cells": [
  {
   "cell_type": "markdown",
   "metadata": {},
   "source": [
    "# Basis #\n",
    "\n",
    "Cash flow replication. Let's consider cash flows over 3 periods, given by 3-vectors below\n",
    "\n",
    "\\begin{align}\n",
    "e_1 = \\begin{bmatrix}\n",
    "    1 \\\\\n",
    "    0 \\\\\n",
    "    0\n",
    "\\end{bmatrix}, \n",
    "\\space\\space\\space\n",
    "\n",
    "l_1 = \\begin{bmatrix}\n",
    "    1 \\\\\n",
    "    -(1+r) \\\\\n",
    "    0\n",
    "\\end{bmatrix},\n",
    "\\space\\space\\space\n",
    "\n",
    "l_2 = \\begin{bmatrix}\n",
    "    0 \\\\\n",
    "    1 \\\\\n",
    "    -(1+r)\n",
    "\\end{bmatrix}\n",
    "\\space\\space\\space\n",
    "\n",
    "\n",
    "\\end{align}\n",
    "\n",
    "form a basis, where r is the (positive) per-period interest rate. The first vector e1 is a single payment of $1 in period (time) t = 1. The second vector l1 is loan of $1 in period t = 1, paid back in period t = 2 with interest r. The third vector l2 is loan of $1 in period t = 2, paid back in period t = 3 with interest r. \n",
    "\n",
    "Let’s use this basis to replicate the cash flow c = (1, 2, −3) as\n",
    "\n",
    "\\begin{align}\n",
    "    c = \\alpha_1e_1 + \\alpha_2l_1+\\alpha_3l_2 =\n",
    "    \\alpha_1\\begin{bmatrix}\n",
    "        1 \\\\\n",
    "        0 \\\\\n",
    "        0\n",
    "    \\end{bmatrix} \n",
    "    +\n",
    "    \\alpha_2\\begin{bmatrix}\n",
    "        1 \\\\\n",
    "        -(1+r) \\\\\n",
    "        0\n",
    "    \\end{bmatrix}\n",
    "    +\n",
    "    \\alpha_3\\begin{bmatrix}\n",
    "        0 \\\\\n",
    "        1 \\\\\n",
    "        -(1+r)\n",
    "    \\end{bmatrix}\n",
    "\\end{align}"
   ]
  },
  {
   "cell_type": "code",
   "execution_count": 8,
   "metadata": {},
   "outputs": [
    {
     "data": {
      "text/plain": [
       "3-element Vector{Float64}:\n",
       "  1.0\n",
       "  2.0\n",
       " -3.0"
      ]
     },
     "metadata": {},
     "output_type": "display_data"
    }
   ],
   "source": [
    "uv(i, n) = [zeros(i-1); 1; zeros(n-i)]\n",
    "e1 = uv(1, 3)\n",
    "r = 0.05\n",
    "l1 = [1; -(1+r); 0]\n",
    "l2 = [0; 1; -(1+r)]\n",
    "c = [1; 2; -3]\n",
    "alpha3 = -c[3]/(1+r)\n",
    "alpha2 = -c[2]/(1+r)-c[3]/(1+r)^2\n",
    "alpha1 = c[1] + c[2]/(1+r)+c[3]/(1+r)^2\n",
    "alpha1*e1+alpha2*l1+alpha3*l2"
   ]
  }
 ],
 "metadata": {
  "kernelspec": {
   "display_name": "Julia 1.10.4",
   "language": "julia",
   "name": "julia-1.10"
  },
  "language_info": {
   "file_extension": ".jl",
   "mimetype": "application/julia",
   "name": "julia",
   "version": "1.10.4"
  }
 },
 "nbformat": 4,
 "nbformat_minor": 2
}
