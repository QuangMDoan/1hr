{
 "cells": [
  {
   "cell_type": "markdown",
   "metadata": {},
   "source": [
    "# Basis #\n",
    "\n",
    "Cash flow replication. Let's consider cash flows over 3 periods, given by 3-vectors below\n",
    "\n",
    "\\begin{align}\n",
    "e_1 = \\begin{bmatrix}\n",
    "    1 \\\\\n",
    "    0 \\\\\n",
    "    0\n",
    "\\end{bmatrix}, \n",
    "\\space\\space\\space\n",
    "\n",
    "l_1 = \\begin{bmatrix}\n",
    "    1 \\\\\n",
    "    -(1+r) \\\\\n",
    "    0\n",
    "\\end{bmatrix},\n",
    "\\space\\space\\space\n",
    "\n",
    "l_2 = \\begin{bmatrix}\n",
    "    0 \\\\\n",
    "    1 \\\\\n",
    "    -(1+r)\n",
    "\\end{bmatrix}\n",
    "\\space\\space\\space\n",
    "\n",
    "\n",
    "\\end{align}\n",
    "\n",
    "form a basis, where r is the (positive) per-period interest rate. The first vector e1 is a single payment of $1 in period (time) t = 1. The second vector l1 is loan of $1 in period t = 1, paid back in period t = 2 with interest r. The third vector l2 is loan of $1 in period t = 2, paid back in period t = 3 with interest r. \n",
    "\n",
    "Let’s use this basis to replicate the cash flow c = (1, 2, −3) as\n",
    "\n",
    "\\begin{align}\n",
    "    c = \\alpha_1e_1 + \\alpha_2l_1+\\alpha_3l_2 =\n",
    "    \\alpha_1\\begin{bmatrix}\n",
    "        1 \\\\\n",
    "        0 \\\\\n",
    "        0\n",
    "    \\end{bmatrix} \n",
    "    +\n",
    "    \\alpha_2\\begin{bmatrix}\n",
    "        1 \\\\\n",
    "        -(1+r) \\\\\n",
    "        0\n",
    "    \\end{bmatrix}\n",
    "    +\n",
    "    \\alpha_3\\begin{bmatrix}\n",
    "        0 \\\\\n",
    "        1 \\\\\n",
    "        -(1+r)\n",
    "    \\end{bmatrix}\n",
    "\\end{align}"
   ]
  },
  {
   "cell_type": "code",
   "execution_count": 8,
   "metadata": {},
   "outputs": [
    {
     "data": {
      "text/plain": [
       "3-element Vector{Float64}:\n",
       "  1.0\n",
       "  2.0\n",
       " -3.0"
      ]
     },
     "metadata": {},
     "output_type": "display_data"
    }
   ],
   "source": [
    "uv(i, n) = [zeros(i-1); 1; zeros(n-i)]\n",
    "e1 = uv(1, 3)\n",
    "r = 0.05\n",
    "l1 = [1; -(1+r); 0]\n",
    "l2 = [0; 1; -(1+r)]\n",
    "c = [1; 2; -3]\n",
    "alpha3 = -c[3]/(1+r)\n",
    "alpha2 = -c[2]/(1+r)-c[3]/(1+r)^2\n",
    "alpha1 = c[1] + c[2]/(1+r)+c[3]/(1+r)^2\n",
    "alpha1*e1+alpha2*l1+alpha3*l2"
   ]
  },
  {
   "cell_type": "markdown",
   "metadata": {},
   "source": [
    "## Orthonomal vectors\n",
    "### Expansion in an orthonomal basis.\n",
    "\n",
    "Let's check that the vectors\n",
    "\n",
    "\\begin{align}\n",
    "    a_1 = \\begin{bmatrix}\n",
    "        0 \\\\\n",
    "        0 \\\\\n",
    "        -1\n",
    "    \\end{bmatrix} \n",
    "    \\space\\space\\space\n",
    "    a_2 = \\frac{1}{\\sqrt{2}}\\begin{bmatrix}\n",
    "        1 \\\\\n",
    "        1 \\\\\n",
    "        0\n",
    "    \\end{bmatrix}\n",
    "    \\space\\space\\space\n",
    "    a_3 = \\frac{1}{\\sqrt{2}}\\begin{bmatrix}\n",
    "        1 \\\\\n",
    "        -1 \\\\\n",
    "        0\n",
    "    \\end{bmatrix}\n",
    "\\end{align}\n",
    "\n",
    "form an orthonormal basis, check the expansion of x = (1, 2, 3) in this basis\n",
    "\n",
    "$ x = (a^T_1x)a_1 + ... + (a^T_nx)a_n$"
   ]
  },
  {
   "cell_type": "code",
   "execution_count": 15,
   "metadata": {},
   "outputs": [
    {
     "data": {
      "text/plain": [
       "(0.0, 0.0, -2.2371143170757382e-17, 1.0, 0.9999999999999999, 0.9999999999999999)"
      ]
     },
     "metadata": {},
     "output_type": "display_data"
    }
   ],
   "source": [
    "using LinearAlgebra\n",
    "a1 = [0, 0, -1]\n",
    "a2 = 1/sqrt(2) * [1; 1; 0]\n",
    "a3 = 1/sqrt(2) * [1; -1; 0]\n",
    "\n",
    "# check if 3 vectors a1, a2, a3 form an orthonormal basis\n",
    "dot(a1, a2), dot(a1, a3), dot(a2, a3), norm(a1), norm(a2), norm(a3)"
   ]
  },
  {
   "cell_type": "code",
   "execution_count": 16,
   "metadata": {},
   "outputs": [
    {
     "data": {
      "text/plain": [
       "3-element Vector{Float64}:\n",
       " 0.9999999999999999\n",
       " 1.9999999999999996\n",
       " 3.0"
      ]
     },
     "metadata": {},
     "output_type": "display_data"
    }
   ],
   "source": [
    "x = [1, 2, 3]\n",
    "# beta1 is the first coefficient of the expansion of x in the basis {a1, a2, a3}\n",
    "beta1 = dot(a1, x)\n",
    "beta2 = dot(a2, x)\n",
    "beta3 = dot(a3, x)\n",
    "\n",
    "xexp = beta1 * a1 + beta2 * a2 + beta3 * a3"
   ]
  },
  {
   "cell_type": "markdown",
   "metadata": {},
   "source": [
    "# Gram Schmidt Algorithm\n",
    "Given input an array [a[1], a[2], ..., a[k]], containing the k vectors a1, ..., ak.\n",
    "\n",
    "if a1, ..., ak are linearly indepndent, it returns an array of orthonormal vectors[q[1], ..., q[k]]\n",
    "\n",
    "If a1, ..., ak are linearly dependent, the algorithm terminates early in iteration i, and returns the array [q[1], ..., q[i]]\n",
    "of length i"
   ]
  },
  {
   "cell_type": "code",
   "execution_count": 22,
   "metadata": {},
   "outputs": [
    {
     "data": {
      "text/plain": [
       "gram_schmidt (generic function with 1 method)"
      ]
     },
     "metadata": {},
     "output_type": "display_data"
    }
   ],
   "source": [
    "function gram_schmidt(a; tol = 1e-10)\n",
    "    q = []\n",
    "    for i = 1:length(a)\n",
    "        qtilde = a[i]\n",
    "        for j =1:i-1\n",
    "            qtilde -= dot(q[j], a[i])*q[j]\n",
    "        end\n",
    "        if norm(qtilde) < tol \n",
    "            println(a, \" is linearly dependent\")\n",
    "            return q\n",
    "        end\n",
    "        qi = qtilde/norm(qtilde)\n",
    "        push!(q, qi)\n",
    "    end\n",
    "    return q\n",
    "end"
   ]
  },
  {
   "cell_type": "code",
   "execution_count": 23,
   "metadata": {},
   "outputs": [
    {
     "data": {
      "text/plain": [
       "3-element Vector{Any}:\n",
       " [-0.5, 0.5, -0.5, 0.5]\n",
       " [0.5, 0.5, 0.5, 0.5]\n",
       " [-0.5, -0.5, 0.5, 0.5]"
      ]
     },
     "metadata": {},
     "output_type": "display_data"
    }
   ],
   "source": [
    "a = [\n",
    "        [-1, 1, -1, 1], \n",
    "        [-1, 3, -1, 3], \n",
    "        [1, 3, 5, 7] ]\n",
    "gram_schmidt(a)"
   ]
  },
  {
   "cell_type": "code",
   "execution_count": 27,
   "metadata": {},
   "outputs": [
    {
     "name": "stdout",
     "output_type": "stream",
     "text": [
      "[[1, 1], [1, 2], [-1, 1]] is linearly dependent\n"
     ]
    },
    {
     "data": {
      "text/plain": [
       "(4.799296168983549e-16, 0.9999999999999999, 0.9999999999999999)"
      ]
     },
     "metadata": {},
     "output_type": "display_data"
    }
   ],
   "source": [
    "b = [[1, 1], [1, 2], [-1, 1]]\n",
    "q = gram_schmidt(b)\n",
    "\n",
    "# check  if q1, q2 are orthonormal vectors\n",
    "dot(q[1], q[2]), norm(q[1]), norm(q[2])"
   ]
  }
 ],
 "metadata": {
  "kernelspec": {
   "display_name": "Julia 1.10.4",
   "language": "julia",
   "name": "julia-1.10"
  },
  "language_info": {
   "file_extension": ".jl",
   "mimetype": "application/julia",
   "name": "julia",
   "version": "1.10.4"
  }
 },
 "nbformat": 4,
 "nbformat_minor": 2
}
