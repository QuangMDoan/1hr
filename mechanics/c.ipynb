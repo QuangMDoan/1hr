{
 "cells": [
  {
   "cell_type": "code",
   "execution_count": null,
   "id": "6b175064",
   "metadata": {},
   "outputs": [
    {
     "name": "stdout",
     "output_type": "stream",
     "text": [
      "[0.5, 1.5, 2.5, 3.5, 0.5, 1.5, 2.5, 3.5, 0.5, 1.5, 0.5, 1.5]\n"
     ]
    }
   ],
   "source": [
    "\n",
    "x1 = [ 0.5 + x for x in range(4) ]\n",
    "x2 = [ 0.5 + x for x in range(4) ]\n",
    "x3 =  [ 0.5 + x for x in range(2) ]\n",
    "x4 =  [ 0.5 + x for x in range(2) ]\n",
    "\n",
    "x = (x1 + x2) + (x3 + x4)\n",
    "y = (x1 + x2) + (x3 + x4)\n",
    "\n",
    "mi = 3.0/12\n",
    "xcm = \n",
    "\n",
    "\n",
    "\n"
   ]
  }
 ],
 "metadata": {
  "kernelspec": {
   "display_name": "cs224r",
   "language": "python",
   "name": "python3"
  },
  "language_info": {
   "codemirror_mode": {
    "name": "ipython",
    "version": 3
   },
   "file_extension": ".py",
   "mimetype": "text/x-python",
   "name": "python",
   "nbconvert_exporter": "python",
   "pygments_lexer": "ipython3",
   "version": "3.13.3"
  }
 },
 "nbformat": 4,
 "nbformat_minor": 5
}
