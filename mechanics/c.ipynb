{
 "cells": [
  {
   "cell_type": "code",
   "execution_count": null,
   "id": "6b175064",
   "metadata": {},
   "outputs": [
    {
     "name": "stdout",
     "output_type": "stream",
     "text": [
      "1.6666666666666667 1.6666666666666667\n"
     ]
    }
   ],
   "source": [
    "\n",
    "x1 = [ 0.5 + x for x in range(4) ]\n",
    "x2 = [ 0.5 + x for x in range(4) ]\n",
    "x3 =  [ 0.5 + x for x in range(2) ]\n",
    "x4 =  [ 0.5 + x for x in range(2) ]\n",
    "\n",
    "x = (x1 + x2) + (x3 + x4)\n",
    "y = (x1 + x2) + (x3 + x4)\n",
    "\n",
    "mi = 3.0/12\n",
    "xcm = sum(mi * xi for xi in x) / 3.0\n",
    "ycm = sum(mi * yi for yi in y) / 3.0\n",
    "\n",
    "print(xcm, ycm)\n",
    "\n",
    "\n",
    "\n",
    "\n",
    "\n"
   ]
  }
 ],
 "metadata": {
  "kernelspec": {
   "display_name": "cs224r",
   "language": "python",
   "name": "python3"
  },
  "language_info": {
   "codemirror_mode": {
    "name": "ipython",
    "version": 3
   },
   "file_extension": ".py",
   "mimetype": "text/x-python",
   "name": "python",
   "nbconvert_exporter": "python",
   "pygments_lexer": "ipython3",
   "version": "3.13.3"
  }
 },
 "nbformat": 4,
 "nbformat_minor": 5
}
