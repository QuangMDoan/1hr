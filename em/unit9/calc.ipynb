{
 "cells": [
  {
   "cell_type": "code",
   "execution_count": 59,
   "id": "b9bdaf05",
   "metadata": {},
   "outputs": [
    {
     "name": "stdout",
     "output_type": "stream",
     "text": [
      "slope 2.503007440957441\n",
      "charge q 7.990387752243228e-6\n"
     ]
    }
   ],
   "source": [
    "m = 4*10^-5\n",
    "\n",
    "vf = [2.84, 3.99, 4.91, 5.64, 6.33]\n",
    "dV = [20, 40, 60, 80, 100]\n",
    "\n",
    "y = dV\n",
    "A = ones(5, 2)\n",
    "A[:, 1] = vf.^2\n",
    "x = A \\ y \n",
    "slope = x[1]\n",
    "\n",
    "using Printf\n",
    "println(\"slope \", slope)\n",
    "\n",
    "q = m / (2*slope)\n",
    "println(\"charge q \", q)"
   ]
  },
  {
   "cell_type": "code",
   "execution_count": 61,
   "id": "37cbf068",
   "metadata": {},
   "outputs": [
    {
     "data": {
      "text/plain": [
       "8.000825e-6"
      ]
     },
     "metadata": {},
     "output_type": "display_data"
    }
   ],
   "source": [
    "slope2 = (dV[5]-dV[1])/(vf[5]^2-vf[1]^2)\n",
    "q2 = m/(2*slope2)"
   ]
  },
  {
   "cell_type": "markdown",
   "id": "b5a28aae",
   "metadata": {},
   "source": [
    "An electron ($q_e = -1.6*10^{-19}C$ and $m_e = 9.11*10^{-31}$kg) is fired from very far away toward a glass sphere that has a radius of 0.05m and a charge of $q_s = -1*10^{-7}C$ uniformly distributed throughout its volume. If the electron has an initial speed of $v_i = 2*10^7m/s,$ how close to the sphere does it get?\n"
   ]
  },
  {
   "cell_type": "code",
   "execution_count": 63,
   "id": "d4d3f9ed",
   "metadata": {},
   "outputs": [
    {
     "name": "stdout",
     "output_type": "stream",
     "text": [
      "-1.822e-16"
     ]
    }
   ],
   "source": [
    "me = 9.11*10^-31\n",
    "vi = 2*10^7\n",
    "dK = -0.5*me*vi^2\n",
    "print(dK)"
   ]
  },
  {
   "cell_type": "code",
   "execution_count": 67,
   "id": "70207133",
   "metadata": {},
   "outputs": [
    {
     "data": {
      "text/plain": [
       "0.7403402854006585"
      ]
     },
     "metadata": {},
     "output_type": "display_data"
    }
   ],
   "source": [
    "dU = -dK\n",
    "q = -1.6*10^-19\n",
    "dV = dU/q\n",
    "k = 9*10^9 \n",
    "q2 = -1*10^-7\n",
    "r = k*q2/dV\n",
    "r2 = r - 0.05"
   ]
  },
  {
   "cell_type": "markdown",
   "id": "dda8fa41",
   "metadata": {},
   "source": [
    "What initial speed must the electron have to just reach the surface of the sphere?\n",
    "$V = k\\frac{q_s}{r}$"
   ]
  },
  {
   "cell_type": "code",
   "execution_count": null,
   "id": "c5bd7c17",
   "metadata": {},
   "outputs": [
    {
     "data": {
      "text/plain": [
       "7.95155474307086e7"
      ]
     },
     "metadata": {},
     "output_type": "display_data"
    }
   ],
   "source": [
    "V = k*q2/0.05\n",
    "dV = V\n",
    "dU = q*dV \n",
    "dK = - dU \n",
    "vi2 = -2dK/me \n",
    "vi = sqrt(vi2)\n"
   ]
  }
 ],
 "metadata": {
  "kernelspec": {
   "display_name": "Julia 1.10.5",
   "language": "julia",
   "name": "julia-1.10"
  },
  "language_info": {
   "file_extension": ".jl",
   "mimetype": "application/julia",
   "name": "julia",
   "version": "1.10.5"
  }
 },
 "nbformat": 4,
 "nbformat_minor": 5
}
