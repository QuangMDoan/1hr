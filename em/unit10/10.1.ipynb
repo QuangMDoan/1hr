{
 "cells": [
  {
   "cell_type": "markdown",
   "id": "d54804bc",
   "metadata": {},
   "source": [
    "# Unit 10 Conductors and Capacitors \n",
    "\n",
    "## 10.1 Electrostatics with conductors \n",
    "\n",
    "### 10.1.1 define a conductor and look at charge distribution on conductors of different shapes\n",
    "\n",
    "### Conductors and Electrostatic equilibrium \n",
    "\n",
    "Insulators are materials in which electrons are not able to move freely. \n",
    "\n",
    "Conductors are materials in which electrons are able to move freely. \n",
    "\n",
    "Rank density of charge on the surface from most dense to least dense\n",
    "C > D > E = B > A"
   ]
  },
  {
   "cell_type": "markdown",
   "id": "ec68afd2",
   "metadata": {},
   "source": []
  }
 ],
 "metadata": {
  "kernelspec": {
   "display_name": "Julia 1.10.5",
   "language": "julia",
   "name": "julia-1.10"
  },
  "language_info": {
   "file_extension": ".jl",
   "mimetype": "application/julia",
   "name": "julia",
   "version": "1.10.5"
  }
 },
 "nbformat": 4,
 "nbformat_minor": 5
}
