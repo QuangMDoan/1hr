{
 "cells": [
  {
   "cell_type": "code",
   "execution_count": 6,
   "id": "2fefac6f",
   "metadata": {},
   "outputs": [
    {
     "name": "stdout",
     "output_type": "stream",
     "text": [
      "0.997008973080758\n"
     ]
    }
   ],
   "source": [
    "Q = 6*10**-6\n",
    "epsilon = 8.85*10**-12\n",
    "E = 6.8*10**5\n",
    "A = Q/(epsilon*E)\n",
    "print(A)"
   ]
  },
  {
   "cell_type": "code",
   "execution_count": 15,
   "id": "fc8d2950",
   "metadata": {},
   "outputs": [
    {
     "name": "stdout",
     "output_type": "stream",
     "text": [
      "4.425e-11\n",
      "3.5399999999999997e-10\n"
     ]
    }
   ],
   "source": [
    "c1 = epsilon*(5*10**-2)*(10*10**-2)/(10**-3)\n",
    "print(c1)\n",
    "c2 = epsilon*(0.2)*(1)/(5*10**-3)\n",
    "print(c2)"
   ]
  }
 ],
 "metadata": {
  "kernelspec": {
   "display_name": "cs224r",
   "language": "python",
   "name": "python3"
  },
  "language_info": {
   "codemirror_mode": {
    "name": "ipython",
    "version": 3
   },
   "file_extension": ".py",
   "mimetype": "text/x-python",
   "name": "python",
   "nbconvert_exporter": "python",
   "pygments_lexer": "ipython3",
   "version": "3.13.3"
  }
 },
 "nbformat": 4,
 "nbformat_minor": 5
}
