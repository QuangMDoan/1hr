{
 "cells": [
  {
   "cell_type": "code",
   "execution_count": 22,
   "metadata": {},
   "outputs": [
    {
     "data": {
      "text/plain": [
       "G (generic function with 1 method)"
      ]
     },
     "metadata": {},
     "output_type": "display_data"
    }
   ],
   "source": [
    "using VMLS\n",
    "using LinearAlgebra\n",
    "\n",
    "G(x, y) = [2*x*y + y^2 - 1; x^2 + 2*x*y - 1]\n",
    "# DG(x, y) = [2*y 2*x + 2*y; 2*x + 2*y 2*x]"
   ]
  },
  {
   "cell_type": "code",
   "execution_count": 26,
   "metadata": {},
   "outputs": [
    {
     "data": {
      "text/plain": [
       "15×2 Matrix{Float64}:\n",
       " 0.5       0.5\n",
       " 0.583333  0.583333\n",
       " 0.577381  0.577381\n",
       " 0.57735   0.57735\n",
       " 0.57735   0.57735\n",
       " 0.57735   0.57735\n",
       " 0.57735   0.57735\n",
       " 0.57735   0.57735\n",
       " 0.57735   0.57735\n",
       " 0.57735   0.57735\n",
       " 0.57735   0.57735\n",
       " 0.57735   0.57735\n",
       " 0.57735   0.57735\n",
       " 0.57735   0.57735\n",
       " 0.57735   0.57735"
      ]
     },
     "metadata": {},
     "output_type": "display_data"
    }
   ],
   "source": [
    "a = zeros(15, 2)\n",
    "a[1, :] = [.5, .5]\n",
    "for k = 2:15\n",
    "    a[k, :] = a[k-1, :] - inv(DG(a[k-1, 1], a[k-1, 2]))*G(a[k-1, 1], a[k-1, 2])\n",
    "end\n",
    "\n",
    "a"
   ]
  },
  {
   "cell_type": "code",
   "execution_count": 1,
   "metadata": {},
   "outputs": [
    {
     "data": {
      "text/plain": [
       "509.4339622641509"
      ]
     },
     "metadata": {},
     "output_type": "display_data"
    }
   ],
   "source": [
    "27*10^3/53"
   ]
  },
  {
   "cell_type": "code",
   "execution_count": 2,
   "metadata": {},
   "outputs": [
    {
     "data": {
      "text/plain": [
       "280.2155504553256"
      ]
     },
     "metadata": {},
     "output_type": "display_data"
    }
   ],
   "source": [
    "2*510*2/sqrt(53)"
   ]
  },
  {
   "cell_type": "code",
   "execution_count": 3,
   "metadata": {},
   "outputs": [
    {
     "data": {
      "text/plain": [
       "448.0"
      ]
     },
     "metadata": {},
     "output_type": "display_data"
    }
   ],
   "source": [
    "1.6*280"
   ]
  },
  {
   "cell_type": "code",
   "execution_count": 8,
   "metadata": {},
   "outputs": [
    {
     "data": {
      "text/plain": [
       "-3.708735226614604e15"
      ]
     },
     "metadata": {},
     "output_type": "display_data"
    }
   ],
   "source": [
    "(9*10^9*-3*10^-6)/sqrt(53)"
   ]
  }
 ],
 "metadata": {
  "kernelspec": {
   "display_name": "Julia 1.10.5",
   "language": "julia",
   "name": "julia-1.10"
  },
  "language_info": {
   "file_extension": ".jl",
   "mimetype": "application/julia",
   "name": "julia",
   "version": "1.10.5"
  }
 },
 "nbformat": 4,
 "nbformat_minor": 2
}
